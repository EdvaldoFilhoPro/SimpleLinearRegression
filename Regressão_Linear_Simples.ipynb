{
  "nbformat": 4,
  "nbformat_minor": 0,
  "metadata": {
    "colab": {
      "provenance": [],
      "authorship_tag": "ABX9TyNTfGCsCw2Iod3uGdz1IJd7",
      "include_colab_link": true
    },
    "kernelspec": {
      "name": "python3",
      "display_name": "Python 3"
    },
    "language_info": {
      "name": "python"
    }
  },
  "cells": [
    {
      "cell_type": "markdown",
      "metadata": {
        "id": "view-in-github",
        "colab_type": "text"
      },
      "source": [
        "<a href=\"https://colab.research.google.com/github/EdvaldoFilhoPro/SimpleLinearRegression/blob/main/Regress%C3%A3o_Linear_Simples.ipynb\" target=\"_parent\"><img src=\"https://colab.research.google.com/assets/colab-badge.svg\" alt=\"Open In Colab\"/></a>"
      ]
    },
    {
      "cell_type": "markdown",
      "source": [
        "### Importando as Bibliotecas\n",
        "Primeiro, importe a biblioteca NumPy, que será usada para realizar cálculos matemáticos."
      ],
      "metadata": {
        "id": "DZHRskAHvqv4"
      }
    },
    {
      "cell_type": "code",
      "execution_count": 1,
      "metadata": {
        "id": "8Knx8AjN4iNh"
      },
      "outputs": [],
      "source": [
        "import numpy as np"
      ]
    },
    {
      "cell_type": "markdown",
      "source": [
        "### Definindo a Classe `SimpleLinearRegression`\n",
        "Agora, vamos criar a classe `SimpleLinearRegression`. Ela conterá métodos para calcular os coeficientes de regressão linear e fazer previsões."
      ],
      "metadata": {
        "id": "yj9qLlvZu9yX"
      }
    },
    {
      "cell_type": "code",
      "source": [
        "class SimpleLinearRegression:\n",
        "    def __init__(self, X, Y):\n",
        "        self.X = X\n",
        "        self.Y = Y\n",
        "        self.__correlation_coefficient = self.__calculate_correlation_coefficient()\n",
        "        self.__slope = self.__calculate_slope()\n",
        "        self.__intercept = self.__calculate_intercept()\n",
        "\n",
        "    def __calculate_correlation_coefficient(self):\n",
        "        covariance = np.cov(self.X, self.Y, bias=True)[0][1]\n",
        "        variance_X = np.var(self.X)\n",
        "        variance_Y = np.var(self.Y)\n",
        "        return covariance / np.sqrt(variance_X * variance_Y)\n",
        "\n",
        "    def __calculate_slope(self):\n",
        "        std_X = np.std(self.X)\n",
        "        std_Y = np.std(self.Y)\n",
        "        return self.__correlation_coefficient * (std_Y / std_X)\n",
        "\n",
        "    def __calculate_intercept(self):\n",
        "        mean_X = np.mean(self.X)\n",
        "        mean_Y = np.mean(self.Y)\n",
        "        return mean_Y - mean_X * self.__slope\n",
        "\n",
        "    def predict(self, value):\n",
        "        return self.__intercept + (self.__slope * value)\n"
      ],
      "metadata": {
        "id": "p3wrA2Rj9JUk"
      },
      "execution_count": 2,
      "outputs": []
    },
    {
      "cell_type": "markdown",
      "source": [
        "### Criando uma Instância da Classe\n",
        "Agora, vamos criar uma instância da classe `SimpleLinearRegression` e fornecer os dados de exemplo `X` e `Y`. Substitua `X` e `Y` pelos seus próprios dados, se necessário."
      ],
      "metadata": {
        "id": "rBET5hRtv66q"
      }
    },
    {
      "cell_type": "code",
      "source": [
        "# Dados de exemplo\n",
        "X = np.array([1, 2, 3, 4, 5])\n",
        "Y = np.array([2, 4, 5, 4, 5])\n",
        "\n",
        "# Criando uma instância da regressão linear simples\n",
        "regression = SimpleLinearRegression(X, Y)\n"
      ],
      "metadata": {
        "id": "qZoSRyka9RNq"
      },
      "execution_count": 3,
      "outputs": []
    },
    {
      "cell_type": "markdown",
      "source": [
        "### Fazendo Previsões\n",
        "Agora que você criou a instância da classe, pode usar o método `predict` para fazer previsões com base nos coeficientes calculados"
      ],
      "metadata": {
        "id": "J75tN_HewN9e"
      }
    },
    {
      "cell_type": "code",
      "source": [
        "# Fazendo uma previsão para um valor de entrada\n",
        "predicted_value = regression.predict(10)\n",
        "print(f\"A previsão para o valor 6 é: {predicted_value}\")"
      ],
      "metadata": {
        "colab": {
          "base_uri": "https://localhost:8080/"
        },
        "id": "emxuSAVR9WAY",
        "outputId": "271ef3bf-210d-489a-824d-2431d76de1b0"
      },
      "execution_count": 4,
      "outputs": [
        {
          "output_type": "stream",
          "name": "stdout",
          "text": [
            "A previsão para o valor 6 é: 8.200000000000001\n"
          ]
        }
      ]
    }
  ]
}